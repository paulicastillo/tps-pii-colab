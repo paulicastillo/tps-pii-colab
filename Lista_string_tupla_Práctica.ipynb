{
  "nbformat": 4,
  "nbformat_minor": 0,
  "metadata": {
    "colab": {
      "provenance": [],
      "include_colab_link": true
    },
    "kernelspec": {
      "name": "python3",
      "display_name": "Python 3"
    },
    "language_info": {
      "name": "python"
    }
  },
  "cells": [
    {
      "cell_type": "markdown",
      "metadata": {
        "id": "view-in-github",
        "colab_type": "text"
      },
      "source": [
        "<a href=\"https://colab.research.google.com/github/paulicastillo/tps-pii-colab/blob/main/Lista_string_tupla_Pr%C3%A1ctica.ipynb\" target=\"_parent\"><img src=\"https://colab.research.google.com/assets/colab-badge.svg\" alt=\"Open In Colab\"/></a>"
      ]
    },
    {
      "cell_type": "code",
      "execution_count": 25,
      "metadata": {
        "id": "8VOD-zpMJovw"
      },
      "outputs": [],
      "source": [
        "# Lista de alumnos\n",
        "alumnos = [\n",
        "    \"Alurralde, Solange Stefania\",\n",
        "    \"Alvarado, Ludmila Del Milagro\",\n",
        "    \"Angel, Camila Juliana\",\n",
        "    \"Arenas, Lucas Gabriel\",\n",
        "    \"Caseres, Maria Antonia\",\n",
        "    \"Castillo, Paulina Milagros\",\n",
        "    \"Correa Segovia, Hugo Mariano\",\n",
        "    \"D Elia, Alvaro Tadeo\",\n",
        "    \"Flores, Victoria Agustina\",\n",
        "    \"Geronimo Soriano, Lizzie Amaya\",\n",
        "    \"GUZMAN, ANGÉLICA MORENA\",\n",
        "    \"Guzman, Jazmin Esmeralda Belen\",\n",
        "    \"Jaime, Anita Maria Belen\",\n",
        "    \"Lacour Polo, Nazarena\",\n",
        "    \"Lascano Guanca, Marcelo Fabricio\",\n",
        "    \"Lezcano, Celia Morena\",\n",
        "    \"Mamani Kynast, Nicolas Mauricio\",\n",
        "    \"Martinez, Tomas Andres\",\n",
        "    \"PORTELLA VALDIVIA, PEDRO FRANCISCO\",\n",
        "    \"Retamal Cisneros, Zacarias Josue\",\n",
        "    \"Rosales, Francisco Gabriel\",\n",
        "    \"Salem Barba, Mahia\",\n",
        "    \"Soto Camara, Agustin Ignacio\",\n",
        "    \"Villalba, Irina\",\n",
        "    \"Voltolini, Emanuel Tobias\",\n",
        "    \"Zalazar, Santino Stefano\",\n",
        "    \"ABUD LASPIUR, LOURDES MARIEL\",\n",
        "    \"Amador, Luana Micaela\",\n",
        "    \"Anaquin, Leonardo Ezequiel\",\n",
        "    \"Araoz Sanchez, Lautaro Nahuel\",\n",
        "    \"Argañaraz, Agostina Abril\",\n",
        "    \"Barrera, Matias Ezequiel\",\n",
        "    \"Barrozo Vedia, Joaquin Nicolas\",\n",
        "    \"Bettinelli, Valentino\",\n",
        "    \"Bracamonte Martinez, Salvador\",\n",
        "    \"Colque Rivero, Ariana Zoe Del Valle\",\n",
        "    \"Diaz, Dulce Maitena\",\n",
        "    \"FIGUEROA, SANTINO JOSUE\",\n",
        "    \"Flores Cardozo, Agustina Tiara\",\n",
        "    \"Gallo, Octavio Ismael\",\n",
        "    \"Galvan, Lourdes Yamila\",\n",
        "    \"Giangreco, Vitto Tomasso\",\n",
        "    \"Grancara, Martina Luna\",\n",
        "    \"Guanca, Sara Elizabeth\",\n",
        "    \"Lopez, Victoria Constanza\",\n",
        "    \"Mamani Garrido, Rosario Agostina\",\n",
        "    \"Marinaro, Martin Ezequiel\",\n",
        "    \"Merluzzi Dagum, Ignacio\",\n",
        "    \"Messina, Martina\",\n",
        "    \"RASUK, KARIM\",\n",
        "    \"Rios, Lucia Magali\",\n",
        "    \"Sanchez Flores, Matías Agustín\",\n",
        "    \"Scarano, Renato Marcelo\",\n",
        "    \"Sierra, Lucas Mauricio\",\n",
        "    \"Tapia, Martin Gabriel\",\n",
        "    \"Vilte, Mia Antonella Alondra\",\n",
        "    \"Virgillito, Katya Milena\"\n",
        "]"
      ]
    },
    {
      "cell_type": "markdown",
      "source": [
        "## Dada la lista estudiantes:\n",
        "> - Hacer una celda para resolver cada punto.\n",
        "- El TP resuelto será revisado en tu repositorio, no es necesario que lo envíes, pero sí que lo pushees correctamente.\n",
        "- En la nota inicial se contempla:\n",
        "  - La creación del fork.\n",
        "  - El pusheo de los cambios realizados.\n",
        "  - La resolución de los ejercicios propuestos.\n"
      ],
      "metadata": {
        "id": "rd6Ug6v3J4uN"
      }
    },
    {
      "cell_type": "markdown",
      "source": [
        "1. Reemplaza todos los valores por los que obtengas del método title(). De esta manera tu lista quedara con los datos más homogéneos."
      ],
      "metadata": {
        "id": "wRLng-uURyJ3"
      }
    },
    {
      "cell_type": "code",
      "source": [
        "for i in range(len(alumnos)):\n",
        "  alumnos[i] = alumnos[i].title()"
      ],
      "metadata": {
        "id": "8_-pTJ7UmqPY"
      },
      "execution_count": 26,
      "outputs": []
    },
    {
      "cell_type": "code",
      "source": [
        "for alumno in alumnos:\n",
        "  print(alumno)"
      ],
      "metadata": {
        "id": "e9cbncJFwM87",
        "outputId": "59fcb35a-62d7-43b4-dd7f-7afdedec6d98",
        "colab": {
          "base_uri": "https://localhost:8080/"
        }
      },
      "execution_count": null,
      "outputs": [
        {
          "output_type": "stream",
          "name": "stdout",
          "text": [
            "Alurralde, Solange Stefania\n",
            "Alvarado, Ludmila Del Milagro\n",
            "Angel, Camila Juliana\n",
            "Arenas, Lucas Gabriel\n",
            "Caseres, Maria Antonia\n",
            "Castillo, Paulina Milagros\n",
            "Correa Segovia, Hugo Mariano\n",
            "D Elia, Alvaro Tadeo\n",
            "Flores, Victoria Agustina\n",
            "Geronimo Soriano, Lizzie Amaya\n",
            "Guzman, Angélica Morena\n",
            "Guzman, Jazmin Esmeralda Belen\n",
            "Jaime, Anita Maria Belen\n",
            "Lacour Polo, Nazarena\n",
            "Lascano Guanca, Marcelo Fabricio\n",
            "Lezcano, Celia Morena\n",
            "Mamani Kynast, Nicolas Mauricio\n",
            "Martinez, Tomas Andres\n",
            "Portella Valdivia, Pedro Francisco\n",
            "Retamal Cisneros, Zacarias Josue\n",
            "Rosales, Francisco Gabriel\n",
            "Salem Barba, Mahia\n",
            "Soto Camara, Agustin Ignacio\n",
            "Villalba, Irina\n",
            "Voltolini, Emanuel Tobias\n",
            "Zalazar, Santino Stefano\n",
            "Abud Laspiur, Lourdes Mariel\n",
            "Amador, Luana Micaela\n",
            "Anaquin, Leonardo Ezequiel\n",
            "Araoz Sanchez, Lautaro Nahuel\n",
            "Argañaraz, Agostina Abril\n",
            "Barrera, Matias Ezequiel\n",
            "Barrozo Vedia, Joaquin Nicolas\n",
            "Bettinelli, Valentino\n",
            "Bracamonte Martinez, Salvador\n",
            "Colque Rivero, Ariana Zoe Del Valle\n",
            "Diaz, Dulce Maitena\n",
            "Figueroa, Santino Josue\n",
            "Flores Cardozo, Agustina Tiara\n",
            "Gallo, Octavio Ismael\n",
            "Galvan, Lourdes Yamila\n",
            "Giangreco, Vitto Tomasso\n",
            "Grancara, Martina Luna\n",
            "Guanca, Sara Elizabeth\n",
            "Lopez, Victoria Constanza\n",
            "Mamani Garrido, Rosario Agostina\n",
            "Marinaro, Martin Ezequiel\n",
            "Merluzzi Dagum, Ignacio\n",
            "Messina, Martina\n",
            "Rasuk, Karim\n",
            "Rios, Lucia Magali\n",
            "Sanchez Flores, Matías Agustín\n",
            "Scarano, Renato Marcelo\n",
            "Sierra, Lucas Mauricio\n",
            "Tapia, Martin Gabriel\n",
            "Vilte, Mia Antonella Alondra\n",
            "Virgillito, Katya Milena\n"
          ]
        }
      ]
    },
    {
      "cell_type": "markdown",
      "source": [
        "2. Desarrolla un script que permita ingresar un nombre y muestre cuantas veces aparece este en la lista\n"
      ],
      "metadata": {
        "id": "dYEGkYZyLy9I"
      }
    },
    {
      "cell_type": "code",
      "source": [
        "nombre = input(\"Ingrese un nombre: \").title()\n",
        "ocurrencias = 0\n",
        "for estudiante in alumnos:\n",
        "  if nombre in estudiante:\n",
        "    ocurrencias += 1\n",
        "print(f\"El nombre {nombre} esta {ocurrencias} veces en la lista\")\n"
      ],
      "metadata": {
        "id": "2EzQjUqbmvTB",
        "outputId": "c8a845dc-ca0d-422b-f899-bb2ba02562ce",
        "colab": {
          "base_uri": "https://localhost:8080/"
        }
      },
      "execution_count": 3,
      "outputs": [
        {
          "output_type": "stream",
          "name": "stdout",
          "text": [
            "Ingrese un nombre: Paulina\n",
            "El nombre Paulina esta 1 veces en la lista\n"
          ]
        }
      ]
    },
    {
      "cell_type": "code",
      "source": [
        "nombre= \"Vilte, Mia Antonella Alondra\"\n",
        "nombre= nombre.replace(',','')\n",
        "nombre = nombre.split()\n",
        "nombre"
      ],
      "metadata": {
        "id": "KXpIu0ICxSL-",
        "outputId": "92c21719-75ca-422c-cd5c-c4f5c84def2b",
        "colab": {
          "base_uri": "https://localhost:8080/"
        }
      },
      "execution_count": null,
      "outputs": [
        {
          "output_type": "execute_result",
          "data": {
            "text/plain": [
              "['Vilte', 'Mia', 'Antonella', 'Alondra']"
            ]
          },
          "metadata": {},
          "execution_count": 18
        }
      ]
    },
    {
      "cell_type": "code",
      "source": [
        "nombre = input(\"Ingrese un nombre: \").title()\n",
        "nombres = []\n",
        "for alumno in alumnos:\n",
        "  alumno_nombres = alumno.replace(',','').split()\n",
        "  nombres.extend(alumno_nombres)\n",
        "print(f\"El nombre {nombre} parece {nombres.count(nombre)} veces en la lista\")"
      ],
      "metadata": {
        "id": "eqEE7hoCx3CG",
        "outputId": "223b6da5-9f76-4d38-db0a-49152ec1eb6e",
        "colab": {
          "base_uri": "https://localhost:8080/"
        }
      },
      "execution_count": null,
      "outputs": [
        {
          "output_type": "stream",
          "name": "stdout",
          "text": [
            "Ingrese un nombre: maria\n",
            "El nombre Maria parece 2 veces en la lista\n"
          ]
        }
      ]
    },
    {
      "cell_type": "markdown",
      "source": [
        "3. Desarrolla un script en python que permita ingresar un nombre y mostrar en que posición de la lista se encuentra el mismo. Realiza las combinaciones necesarias para que no se genere un error si es que el nombre no existe."
      ],
      "metadata": {
        "id": "UW2dlBsGMAte"
      }
    },
    {
      "cell_type": "code",
      "source": [
        "nombre= input(\"Ingrese un nombre: \").title()\n",
        "if nombre in alumnos:\n",
        "  posicion = alumnos.index(nombre)\n",
        "  print(f\"El alumno está en la posicion {posicion}\")\n",
        "else:\n",
        "  print(f\"EL alumno no está en la lista\")"
      ],
      "metadata": {
        "id": "WG4Eae3PnAog",
        "outputId": "654762fa-1064-40ca-c498-87e64384f990",
        "colab": {
          "base_uri": "https://localhost:8080/"
        }
      },
      "execution_count": null,
      "outputs": [
        {
          "output_type": "stream",
          "name": "stdout",
          "text": [
            "Ingrese un nombre: Figueroa, Santino Josue\n",
            "El alumno está en la posicion 37\n"
          ]
        }
      ]
    },
    {
      "cell_type": "markdown",
      "source": [
        "4. Agrega un nombre al final de la lista, otro al principio y otro en la posición anterior a la de tu nombre en la lista. Tene en cuenta el formato usado para ingresar los datos: \"apellidos, nombres\""
      ],
      "metadata": {
        "id": "kZeEHUYVNwGV"
      }
    },
    {
      "cell_type": "code",
      "source": [],
      "metadata": {
        "id": "0BfPF1SsEbCj"
      },
      "execution_count": null,
      "outputs": []
    },
    {
      "cell_type": "code",
      "source": [
        "apellido = input(\"Ingrese un apellido: \").title()\n",
        "nombre = input(\"ingrese el nombre: \").title()\n",
        "nombre_completo = apellido+\", \"+nombre\n",
        "\n",
        "#insertar al principio\n",
        "alumnos.insert(0, nombre_completo)\n",
        "\n",
        "#insertar al final\n",
        "apellido = input(\"Ingrese un apellido: \").title()\n",
        "nombre = input(\"ingrese el nombre: \").title()\n",
        "nombre_completo = apellido+\", \"+nombre\n",
        "alumnos.append(nombre_completo)\n",
        "\n",
        "#insertar adelante de tu nombre\n",
        "apellido = input(\"Ingrese un apellido: \")\n",
        "nombre = input(\"ingrese el nombre: \")\n",
        "nombre_completo = apellido+\", \"+nombre\n",
        "posicion = alumnos.index(\"Castillo, Paulina Milagros\")\n",
        "alumnos.insert(posicion, nombre_completo)"
      ],
      "metadata": {
        "colab": {
          "base_uri": "https://localhost:8080/"
        },
        "id": "NZanSYUE_z2y",
        "outputId": "9394b6b8-be66-450e-9cb8-87296dc56ee0"
      },
      "execution_count": 27,
      "outputs": [
        {
          "name": "stdout",
          "output_type": "stream",
          "text": [
            "Ingrese un apellido: fulanito\n",
            "ingrese el nombre: cosme\n",
            "Ingrese un apellido: fulanito\n",
            "ingrese el nombre: cosme\n",
            "Ingrese un apellido: fulanito\n",
            "ingrese el nombre: cosme\n"
          ]
        }
      ]
    },
    {
      "cell_type": "code",
      "source": [
        "for alumno in alumnos:\n",
        "  print(alumno)"
      ],
      "metadata": {
        "colab": {
          "base_uri": "https://localhost:8080/"
        },
        "id": "JmRaJchfGEDE",
        "outputId": "35bbe683-2215-4830-db13-6e4008298384"
      },
      "execution_count": 24,
      "outputs": [
        {
          "output_type": "stream",
          "name": "stdout",
          "text": [
            "Fulanito, Cosme\n",
            "Fulanito, Cosme\n",
            "Castillo, Paulina\n",
            "Castillo, Paulina\n",
            "Fulanito, Cosme\n",
            "Fulanito, Cosme\n"
          ]
        }
      ]
    },
    {
      "cell_type": "code",
      "source": [
        "print(alumnos)"
      ],
      "metadata": {
        "id": "U2pF9krtCCzj"
      },
      "execution_count": null,
      "outputs": []
    },
    {
      "cell_type": "markdown",
      "source": [
        "5. Mostrá cada elemento de la lista mientras la vacias usando el metodo pop(). Para lograr esto usá la estructura while.\n",
        "\n",
        "Tene en cuenta que:\n",
        "\n",
        "\n",
        ">```python\n",
        "bool([]) = False\n",
        "```\n",
        "\n"
      ],
      "metadata": {
        "id": "b_we1Oz4OUBN"
      }
    },
    {
      "cell_type": "code",
      "source": [
        "while alumnos:\n",
        "  un_alumno = alumnos.pop()\n",
        "  print(un_alumno)"
      ],
      "metadata": {
        "colab": {
          "base_uri": "https://localhost:8080/"
        },
        "id": "K6jHkUp495UX",
        "outputId": "b233dd3d-1136-4a3a-99c6-d7a371cabefd"
      },
      "execution_count": 8,
      "outputs": [
        {
          "output_type": "stream",
          "name": "stdout",
          "text": [
            "Castillo, Paulina Milagros\n",
            "Virgillito, Katya Milena\n",
            "Vilte, Mia Antonella Alondra\n",
            "Tapia, Martin Gabriel\n",
            "Sierra, Lucas Mauricio\n",
            "Scarano, Renato Marcelo\n",
            "Sanchez Flores, Matías Agustín\n",
            "Rios, Lucia Magali\n",
            "RASUK, KARIM\n",
            "Messina, Martina\n",
            "Merluzzi Dagum, Ignacio\n",
            "Marinaro, Martin Ezequiel\n",
            "Mamani Garrido, Rosario Agostina\n",
            "Lopez, Victoria Constanza\n",
            "Guanca, Sara Elizabeth\n",
            "Grancara, Martina Luna\n",
            "Giangreco, Vitto Tomasso\n",
            "Galvan, Lourdes Yamila\n",
            "Gallo, Octavio Ismael\n",
            "Flores Cardozo, Agustina Tiara\n",
            "FIGUEROA, SANTINO JOSUE\n",
            "Diaz, Dulce Maitena\n",
            "Colque Rivero, Ariana Zoe Del Valle\n",
            "Bracamonte Martinez, Salvador\n",
            "Bettinelli, Valentino\n",
            "Barrozo Vedia, Joaquin Nicolas\n",
            "Barrera, Matias Ezequiel\n",
            "Argañaraz, Agostina Abril\n",
            "Araoz Sanchez, Lautaro Nahuel\n",
            "Anaquin, Leonardo Ezequiel\n",
            "Amador, Luana Micaela\n",
            "ABUD LASPIUR, LOURDES MARIEL\n",
            "Zalazar, Santino Stefano\n",
            "Voltolini, Emanuel Tobias\n",
            "Villalba, Irina\n",
            "Soto Camara, Agustin Ignacio\n",
            "Salem Barba, Mahia\n",
            "Rosales, Francisco Gabriel\n",
            "Retamal Cisneros, Zacarias Josue\n",
            "PORTELLA VALDIVIA, PEDRO FRANCISCO\n",
            "Martinez, Tomas Andres\n",
            "Mamani Kynast, Nicolas Mauricio\n",
            "Lezcano, Celia Morena\n",
            "Lascano Guanca, Marcelo Fabricio\n",
            "Lacour Polo, Nazarena\n",
            "Jaime, Anita Maria Belen\n",
            "Guzman, Jazmin Esmeralda Belen\n",
            "GUZMAN, ANGÉLICA MORENA\n",
            "Geronimo Soriano, Lizzie Amaya\n",
            "Flores, Victoria Agustina\n",
            "D Elia, Alvaro Tadeo\n",
            "Correa Segovia, Hugo Mariano\n",
            "Castillo, Paulina Milagros\n",
            "Caseres, Maria Antonia\n",
            "Arenas, Lucas Gabriel\n",
            "Angel, Camila Juliana\n",
            "Alvarado, Ludmila Del Milagro\n",
            "Alurralde, Solange Stefania\n",
            "Castillo, Paulina Milagros\n"
          ]
        }
      ]
    },
    {
      "cell_type": "markdown",
      "source": [
        "6. Crea un menú para ordenar la lista de manera ascendente o descendente. Realiza esta acción y muestra el resultado según la opción elegida por el usuario."
      ],
      "metadata": {
        "id": "xY4BuqGdQBF1"
      }
    },
    {
      "cell_type": "code",
      "source": [
        "print(\"\"\"\n",
        "      a - Ordenar de manera asendente\n",
        "      d - Odenar la lista de manera descendente\n",
        "      Ingrese una opcion:\"\"\")\n",
        "op = input().lower() #A --> a\n",
        "if op == 'a':\n",
        "  alumnos.sort()\n",
        "elif op == 'd':\n",
        "  alumnos.sort(reverse= True)\n",
        "else:\n",
        "  print(\"La opcion ingresada no es correcta\")\n",
        "\n",
        "for alumno in alumnos:\n",
        "  print(alumno)"
      ],
      "metadata": {
        "id": "NKR3ciBKSjhr",
        "colab": {
          "base_uri": "https://localhost:8080/"
        },
        "outputId": "ac2ff5b7-fb33-4e11-c84b-dd2571ab03ab"
      },
      "execution_count": 29,
      "outputs": [
        {
          "output_type": "stream",
          "name": "stdout",
          "text": [
            "\n",
            "      a - Ordenar de manera asendente\n",
            "      d - Odenar la lista de manera descendente\n",
            "      Ingrese una opcion:\n",
            "d\n",
            "fulanito, cosme\n",
            "Zalazar, Santino Stefano\n",
            "Voltolini, Emanuel Tobias\n",
            "Virgillito, Katya Milena\n",
            "Vilte, Mia Antonella Alondra\n",
            "Villalba, Irina\n",
            "Tapia, Martin Gabriel\n",
            "Soto Camara, Agustin Ignacio\n",
            "Sierra, Lucas Mauricio\n",
            "Scarano, Renato Marcelo\n",
            "Sanchez Flores, Matías Agustín\n",
            "Salem Barba, Mahia\n",
            "Rosales, Francisco Gabriel\n",
            "Rios, Lucia Magali\n",
            "Retamal Cisneros, Zacarias Josue\n",
            "Rasuk, Karim\n",
            "Portella Valdivia, Pedro Francisco\n",
            "Messina, Martina\n",
            "Merluzzi Dagum, Ignacio\n",
            "Martinez, Tomas Andres\n",
            "Marinaro, Martin Ezequiel\n",
            "Mamani Kynast, Nicolas Mauricio\n",
            "Mamani Garrido, Rosario Agostina\n",
            "Lopez, Victoria Constanza\n",
            "Lezcano, Celia Morena\n",
            "Lascano Guanca, Marcelo Fabricio\n",
            "Lacour Polo, Nazarena\n",
            "Jaime, Anita Maria Belen\n",
            "Guzman, Jazmin Esmeralda Belen\n",
            "Guzman, Angélica Morena\n",
            "Guanca, Sara Elizabeth\n",
            "Grancara, Martina Luna\n",
            "Giangreco, Vitto Tomasso\n",
            "Geronimo Soriano, Lizzie Amaya\n",
            "Galvan, Lourdes Yamila\n",
            "Gallo, Octavio Ismael\n",
            "Fulanito, Cosme\n",
            "Fulanito, Cosme\n",
            "Flores, Victoria Agustina\n",
            "Flores Cardozo, Agustina Tiara\n",
            "Figueroa, Santino Josue\n",
            "Diaz, Dulce Maitena\n",
            "D Elia, Alvaro Tadeo\n",
            "Correa Segovia, Hugo Mariano\n",
            "Colque Rivero, Ariana Zoe Del Valle\n",
            "Castillo, Paulina Milagros\n",
            "Caseres, Maria Antonia\n",
            "Bracamonte Martinez, Salvador\n",
            "Bettinelli, Valentino\n",
            "Barrozo Vedia, Joaquin Nicolas\n",
            "Barrera, Matias Ezequiel\n",
            "Argañaraz, Agostina Abril\n",
            "Arenas, Lucas Gabriel\n",
            "Araoz Sanchez, Lautaro Nahuel\n",
            "Angel, Camila Juliana\n",
            "Anaquin, Leonardo Ezequiel\n",
            "Amador, Luana Micaela\n",
            "Alvarado, Ludmila Del Milagro\n",
            "Alurralde, Solange Stefania\n",
            "Abud Laspiur, Lourdes Mariel\n"
          ]
        }
      ]
    },
    {
      "cell_type": "markdown",
      "source": [
        "7. - Crea, a partir de la lista estudiantes, una nueva lista tupla_estudiantes que contenga los nombres en formato de tuplas, donde el primer elemento sea el apellido y el segundo el nombre.\n",
        "  - Muestra cada tupla de la nueva lista.\n"
      ],
      "metadata": {
        "id": "7wb4sRbOSkdM"
      }
    },
    {
      "cell_type": "code",
      "source": [
        "tupla_estudiantes = []\n",
        "for alumno in alumnos:\n",
        "  apellido,nombre = alumno.split(',')\n",
        "  nombre = nombre.strip()\n",
        "  tupla_estudiantes.append((apellido,nombre))\n",
        "\n",
        "for alumno in tupla_estudiantes:\n",
        "  print(alumno)"
      ],
      "metadata": {
        "id": "f9v0mfoZS9_s",
        "colab": {
          "base_uri": "https://localhost:8080/"
        },
        "outputId": "df074f54-850f-4491-a81c-80da65d38c6c"
      },
      "execution_count": 30,
      "outputs": [
        {
          "output_type": "stream",
          "name": "stdout",
          "text": [
            "('fulanito', 'cosme')\n",
            "('Zalazar', 'Santino Stefano')\n",
            "('Voltolini', 'Emanuel Tobias')\n",
            "('Virgillito', 'Katya Milena')\n",
            "('Vilte', 'Mia Antonella Alondra')\n",
            "('Villalba', 'Irina')\n",
            "('Tapia', 'Martin Gabriel')\n",
            "('Soto Camara', 'Agustin Ignacio')\n",
            "('Sierra', 'Lucas Mauricio')\n",
            "('Scarano', 'Renato Marcelo')\n",
            "('Sanchez Flores', 'Matías Agustín')\n",
            "('Salem Barba', 'Mahia')\n",
            "('Rosales', 'Francisco Gabriel')\n",
            "('Rios', 'Lucia Magali')\n",
            "('Retamal Cisneros', 'Zacarias Josue')\n",
            "('Rasuk', 'Karim')\n",
            "('Portella Valdivia', 'Pedro Francisco')\n",
            "('Messina', 'Martina')\n",
            "('Merluzzi Dagum', 'Ignacio')\n",
            "('Martinez', 'Tomas Andres')\n",
            "('Marinaro', 'Martin Ezequiel')\n",
            "('Mamani Kynast', 'Nicolas Mauricio')\n",
            "('Mamani Garrido', 'Rosario Agostina')\n",
            "('Lopez', 'Victoria Constanza')\n",
            "('Lezcano', 'Celia Morena')\n",
            "('Lascano Guanca', 'Marcelo Fabricio')\n",
            "('Lacour Polo', 'Nazarena')\n",
            "('Jaime', 'Anita Maria Belen')\n",
            "('Guzman', 'Jazmin Esmeralda Belen')\n",
            "('Guzman', 'Angélica Morena')\n",
            "('Guanca', 'Sara Elizabeth')\n",
            "('Grancara', 'Martina Luna')\n",
            "('Giangreco', 'Vitto Tomasso')\n",
            "('Geronimo Soriano', 'Lizzie Amaya')\n",
            "('Galvan', 'Lourdes Yamila')\n",
            "('Gallo', 'Octavio Ismael')\n",
            "('Fulanito', 'Cosme')\n",
            "('Fulanito', 'Cosme')\n",
            "('Flores', 'Victoria Agustina')\n",
            "('Flores Cardozo', 'Agustina Tiara')\n",
            "('Figueroa', 'Santino Josue')\n",
            "('Diaz', 'Dulce Maitena')\n",
            "('D Elia', 'Alvaro Tadeo')\n",
            "('Correa Segovia', 'Hugo Mariano')\n",
            "('Colque Rivero', 'Ariana Zoe Del Valle')\n",
            "('Castillo', 'Paulina Milagros')\n",
            "('Caseres', 'Maria Antonia')\n",
            "('Bracamonte Martinez', 'Salvador')\n",
            "('Bettinelli', 'Valentino')\n",
            "('Barrozo Vedia', 'Joaquin Nicolas')\n",
            "('Barrera', 'Matias Ezequiel')\n",
            "('Argañaraz', 'Agostina Abril')\n",
            "('Arenas', 'Lucas Gabriel')\n",
            "('Araoz Sanchez', 'Lautaro Nahuel')\n",
            "('Angel', 'Camila Juliana')\n",
            "('Anaquin', 'Leonardo Ezequiel')\n",
            "('Amador', 'Luana Micaela')\n",
            "('Alvarado', 'Ludmila Del Milagro')\n",
            "('Alurralde', 'Solange Stefania')\n",
            "('Abud Laspiur', 'Lourdes Mariel')\n"
          ]
        }
      ]
    },
    {
      "cell_type": "markdown",
      "source": [
        "8. Crea un menú como el del ejercicio 6, pero ahora permite elegir si ordenar alfabéticamente por nombre o por apellido.\n",
        "> Para resolver este ejercicio, solicitar ayuda en clase o en el foro\n"
      ],
      "metadata": {
        "id": "PziNZOOBS_UQ"
      }
    },
    {
      "cell_type": "code",
      "source": [
        "def segunda_posicion(tupla):\n",
        "  return tupla[1]\n",
        "\n",
        "nombre = ('Castillo', 'Paulina Milagros')\n",
        "print(segunda_posicion(nombre))"
      ],
      "metadata": {
        "id": "v72o7Pix76H9",
        "colab": {
          "base_uri": "https://localhost:8080/"
        },
        "outputId": "7be68fd2-61b4-4030-ef26-6ba562e55a5a"
      },
      "execution_count": 31,
      "outputs": [
        {
          "output_type": "stream",
          "name": "stdout",
          "text": [
            "Paulina Milagros\n"
          ]
        }
      ]
    },
    {
      "cell_type": "code",
      "source": [
        "print(\"\"\"\n",
        "an - Ordenar ascendentemente por nombre\n",
        "aa - Ordenar ascendentemente por apellido\n",
        "dn - Ordenar descendentemente por nombre\n",
        "da - Ordenar descendentemente por apellido\n",
        "Ingrese una opcion: \"\"\")\n",
        "op = input().lower()\n",
        "if op == 'an':\n",
        "  tupla_estudiantes.sort(key=segunda_posicion)\n",
        "elif op == 'aa':\n",
        "  tupla_estudiantes.sort()\n",
        "elif op == 'dn':\n",
        "  tupla_estudiantes.sort(key=segunda_posicion,reverse=True)\n",
        "elif op == 'da':\n",
        "  tupla_estudiantes.sort(reverse= True)\n",
        "else:\n",
        "  print(\"La opcion ingresada es incorrecta\")\n",
        "for estudiante in tupla_estudiantes:\n",
        "  print(estudiante)"
      ],
      "metadata": {
        "id": "X7Xu-KyaTWth",
        "colab": {
          "base_uri": "https://localhost:8080/"
        },
        "outputId": "af419c25-979e-4c30-f173-56f239d26db0"
      },
      "execution_count": 32,
      "outputs": [
        {
          "output_type": "stream",
          "name": "stdout",
          "text": [
            "\n",
            "an - Ordenar ascendentemente por nombre\n",
            "aa - Ordenar ascendentemente por apellido\n",
            "dn - Ordenar descendentemente por nombre\n",
            "da - Ordenar descendentemente por apellido\n",
            "Ingrese una opcion: \n",
            "an\n",
            "('Argañaraz', 'Agostina Abril')\n",
            "('Soto Camara', 'Agustin Ignacio')\n",
            "('Flores Cardozo', 'Agustina Tiara')\n",
            "('D Elia', 'Alvaro Tadeo')\n",
            "('Guzman', 'Angélica Morena')\n",
            "('Jaime', 'Anita Maria Belen')\n",
            "('Colque Rivero', 'Ariana Zoe Del Valle')\n",
            "('Angel', 'Camila Juliana')\n",
            "('Lezcano', 'Celia Morena')\n",
            "('Fulanito', 'Cosme')\n",
            "('Fulanito', 'Cosme')\n",
            "('Diaz', 'Dulce Maitena')\n",
            "('Voltolini', 'Emanuel Tobias')\n",
            "('Rosales', 'Francisco Gabriel')\n",
            "('Correa Segovia', 'Hugo Mariano')\n",
            "('Merluzzi Dagum', 'Ignacio')\n",
            "('Villalba', 'Irina')\n",
            "('Guzman', 'Jazmin Esmeralda Belen')\n",
            "('Barrozo Vedia', 'Joaquin Nicolas')\n",
            "('Rasuk', 'Karim')\n",
            "('Virgillito', 'Katya Milena')\n",
            "('Araoz Sanchez', 'Lautaro Nahuel')\n",
            "('Anaquin', 'Leonardo Ezequiel')\n",
            "('Geronimo Soriano', 'Lizzie Amaya')\n",
            "('Abud Laspiur', 'Lourdes Mariel')\n",
            "('Galvan', 'Lourdes Yamila')\n",
            "('Amador', 'Luana Micaela')\n",
            "('Arenas', 'Lucas Gabriel')\n",
            "('Sierra', 'Lucas Mauricio')\n",
            "('Rios', 'Lucia Magali')\n",
            "('Alvarado', 'Ludmila Del Milagro')\n",
            "('Salem Barba', 'Mahia')\n",
            "('Lascano Guanca', 'Marcelo Fabricio')\n",
            "('Caseres', 'Maria Antonia')\n",
            "('Marinaro', 'Martin Ezequiel')\n",
            "('Tapia', 'Martin Gabriel')\n",
            "('Messina', 'Martina')\n",
            "('Grancara', 'Martina Luna')\n",
            "('Barrera', 'Matias Ezequiel')\n",
            "('Sanchez Flores', 'Matías Agustín')\n",
            "('Vilte', 'Mia Antonella Alondra')\n",
            "('Lacour Polo', 'Nazarena')\n",
            "('Mamani Kynast', 'Nicolas Mauricio')\n",
            "('Gallo', 'Octavio Ismael')\n",
            "('Castillo', 'Paulina Milagros')\n",
            "('Portella Valdivia', 'Pedro Francisco')\n",
            "('Scarano', 'Renato Marcelo')\n",
            "('Mamani Garrido', 'Rosario Agostina')\n",
            "('Bracamonte Martinez', 'Salvador')\n",
            "('Figueroa', 'Santino Josue')\n",
            "('Zalazar', 'Santino Stefano')\n",
            "('Guanca', 'Sara Elizabeth')\n",
            "('Alurralde', 'Solange Stefania')\n",
            "('Martinez', 'Tomas Andres')\n",
            "('Bettinelli', 'Valentino')\n",
            "('Flores', 'Victoria Agustina')\n",
            "('Lopez', 'Victoria Constanza')\n",
            "('Giangreco', 'Vitto Tomasso')\n",
            "('Retamal Cisneros', 'Zacarias Josue')\n",
            "('fulanito', 'cosme')\n"
          ]
        }
      ]
    },
    {
      "cell_type": "markdown",
      "source": [
        "9. Agrega un dato en la posición siguiente a la de tu nombre en el nuevo formato de tupla. Para esto solicita al usuario su nombre y apellido, almacena estos datos en una tupla y agrega la misma a la lista \"tupla_estudiantes\""
      ],
      "metadata": {
        "id": "mtnmvoZ9TXii"
      }
    },
    {
      "cell_type": "code",
      "source": [],
      "metadata": {
        "id": "8Wg0gvN3H_78"
      },
      "execution_count": null,
      "outputs": []
    },
    {
      "cell_type": "markdown",
      "source": [
        "10. - Pedir al usuario un nombre y mostrar todos los estudiantes que tengan ese nombre.\n",
        "  - Hacer lo mismo con un apellido.\n"
      ],
      "metadata": {
        "id": "dY4y7OVPT1FT"
      }
    },
    {
      "cell_type": "code",
      "source": [
        "nombre = input(\"Ingrese un nombre:\").title()\n",
        "for alumno in alumnos:\n",
        "  if nombre in alumno:\n",
        "    print(alumno)\n",
        "apellido = input(\" Ingrese un apellido:\").title()\n",
        "for alumno in alumnos:\n",
        "  if apellido in alumno:\n",
        "    print(alumno)"
      ],
      "metadata": {
        "id": "RSXz_XcvT0Nc",
        "colab": {
          "base_uri": "https://localhost:8080/"
        },
        "outputId": "b9fdc8d6-caa1-4519-9739-799c2bc1e1ea"
      },
      "execution_count": 33,
      "outputs": [
        {
          "output_type": "stream",
          "name": "stdout",
          "text": [
            "Ingrese un nombre:Paulina\n",
            "Castillo, Paulina Milagros\n",
            " Ingrese un apellido:Castillo\n",
            "Castillo, Paulina Milagros\n"
          ]
        }
      ]
    },
    {
      "cell_type": "markdown",
      "source": [
        "11. Pedir un nombre al usuario y eliminar todos los registros donde se encuentre un estudiante con el nombre ingresado.\n"
      ],
      "metadata": {
        "id": "7zdJLrqXVM30"
      }
    },
    {
      "cell_type": "markdown",
      "source": [
        "12. Pedir dos apellidos al usuario, y reemplazar el primer apellido por el segundo en todos los registros donde se encuentre."
      ],
      "metadata": {
        "id": "DGU_hs0BVRfa"
      }
    },
    {
      "cell_type": "code",
      "source": [
        "apellido_1=input(\"Ingrese el primer apellido: \").title()\n",
        "apellido_2=input(\"Ingrese el segundo apellido: \").title()\n",
        "for i in range(len(tupla_estudiantes)):\n",
        "  apellido,nombre=tupla_estudiantes[i]\n",
        "  if apellido_1 in apellido:\n",
        "    # tupla_estudiantes.pop(i)\n",
        "    # tupla_1=(apellido_2,nombre)\n",
        "    # tupla_estudiantes.insert(i,tupla_1)\n",
        "    apellido = apellido.replace(apellido_1,apellido_2)\n",
        "    tupla_estudiantes[i]= (apellido,nombre)\n",
        "for estudiante in tupla_estudiantes:\n",
        "  print(estudiante)"
      ],
      "metadata": {
        "id": "3_rnimG_VQr6",
        "outputId": "382f96d0-1f3d-46eb-a820-842b7c5442b9",
        "colab": {
          "base_uri": "https://localhost:8080/"
        }
      },
      "execution_count": 34,
      "outputs": [
        {
          "output_type": "stream",
          "name": "stdout",
          "text": [
            "Ingrese el primer apellido: Castillo\n",
            "Ingrese el segundo apellido: Ortiz\n",
            "('Argañaraz', 'Agostina Abril')\n",
            "('Soto Camara', 'Agustin Ignacio')\n",
            "('Flores Cardozo', 'Agustina Tiara')\n",
            "('D Elia', 'Alvaro Tadeo')\n",
            "('Guzman', 'Angélica Morena')\n",
            "('Jaime', 'Anita Maria Belen')\n",
            "('Colque Rivero', 'Ariana Zoe Del Valle')\n",
            "('Angel', 'Camila Juliana')\n",
            "('Lezcano', 'Celia Morena')\n",
            "('Fulanito', 'Cosme')\n",
            "('Fulanito', 'Cosme')\n",
            "('Diaz', 'Dulce Maitena')\n",
            "('Voltolini', 'Emanuel Tobias')\n",
            "('Rosales', 'Francisco Gabriel')\n",
            "('Correa Segovia', 'Hugo Mariano')\n",
            "('Merluzzi Dagum', 'Ignacio')\n",
            "('Villalba', 'Irina')\n",
            "('Guzman', 'Jazmin Esmeralda Belen')\n",
            "('Barrozo Vedia', 'Joaquin Nicolas')\n",
            "('Rasuk', 'Karim')\n",
            "('Virgillito', 'Katya Milena')\n",
            "('Araoz Sanchez', 'Lautaro Nahuel')\n",
            "('Anaquin', 'Leonardo Ezequiel')\n",
            "('Geronimo Soriano', 'Lizzie Amaya')\n",
            "('Abud Laspiur', 'Lourdes Mariel')\n",
            "('Galvan', 'Lourdes Yamila')\n",
            "('Amador', 'Luana Micaela')\n",
            "('Arenas', 'Lucas Gabriel')\n",
            "('Sierra', 'Lucas Mauricio')\n",
            "('Rios', 'Lucia Magali')\n",
            "('Alvarado', 'Ludmila Del Milagro')\n",
            "('Salem Barba', 'Mahia')\n",
            "('Lascano Guanca', 'Marcelo Fabricio')\n",
            "('Caseres', 'Maria Antonia')\n",
            "('Marinaro', 'Martin Ezequiel')\n",
            "('Tapia', 'Martin Gabriel')\n",
            "('Messina', 'Martina')\n",
            "('Grancara', 'Martina Luna')\n",
            "('Barrera', 'Matias Ezequiel')\n",
            "('Sanchez Flores', 'Matías Agustín')\n",
            "('Vilte', 'Mia Antonella Alondra')\n",
            "('Lacour Polo', 'Nazarena')\n",
            "('Mamani Kynast', 'Nicolas Mauricio')\n",
            "('Gallo', 'Octavio Ismael')\n",
            "('Ortiz', 'Paulina Milagros')\n",
            "('Portella Valdivia', 'Pedro Francisco')\n",
            "('Scarano', 'Renato Marcelo')\n",
            "('Mamani Garrido', 'Rosario Agostina')\n",
            "('Bracamonte Martinez', 'Salvador')\n",
            "('Figueroa', 'Santino Josue')\n",
            "('Zalazar', 'Santino Stefano')\n",
            "('Guanca', 'Sara Elizabeth')\n",
            "('Alurralde', 'Solange Stefania')\n",
            "('Martinez', 'Tomas Andres')\n",
            "('Bettinelli', 'Valentino')\n",
            "('Flores', 'Victoria Agustina')\n",
            "('Lopez', 'Victoria Constanza')\n",
            "('Giangreco', 'Vitto Tomasso')\n",
            "('Retamal Cisneros', 'Zacarias Josue')\n",
            "('fulanito', 'cosme')\n"
          ]
        }
      ]
    }
  ]
}